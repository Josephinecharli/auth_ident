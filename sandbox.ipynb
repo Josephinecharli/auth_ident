{
 "cells": [
  {
   "cell_type": "code",
   "execution_count": 1,
   "metadata": {},
   "outputs": [],
   "source": [
    "import pandas as pd\n",
    "\n",
    "blog_train = pd.read_csv('local_data/blog_train.csv')\n",
    "blog_test = pd.read_csv('local_data/blog_test.csv')\n",
    "mail_train = pd.read_csv('local_data/mail_train.csv')\n",
    "mail_test = pd.read_csv('local_data/mail_test.csv')\n",
    "book_train = pd.read_csv('local_data/book_train.csv')\n",
    "book_test = pd.read_csv('local_data/book_test.csv')"
   ]
  },
  {
   "cell_type": "code",
   "execution_count": 2,
   "metadata": {},
   "outputs": [
    {
     "name": "stdout",
     "output_type": "stream",
     "text": [
      "blog_train: 18247\n",
      "blog_test: 960\n",
      "mail_train: 143\n",
      "mail_test: 7\n",
      "book_train: 1227\n",
      "book_test: 64\n"
     ]
    },
    {
     "data": {
      "text/plain": [
       "{None}"
      ]
     },
     "execution_count": 2,
     "metadata": {},
     "output_type": "execute_result"
    }
   ],
   "source": [
    "datasets = {'blog_train': blog_train,\n",
    "            'blog_test': blog_test,\n",
    "            'mail_train': mail_train,\n",
    "            'mail_test': mail_test,\n",
    "            'book_train': book_train,\n",
    "            'book_test': book_test,\n",
    "            }\n",
    "\n",
    "{print(f'{key}: {len(value.id.unique())}')for key, value in datasets.items()}"
   ]
  }
 ],
 "metadata": {
  "interpreter": {
   "hash": "916dbcbb3f70747c44a77c7bcd40155683ae19c65e1c03b4aa3499c5328201f1"
  },
  "kernelspec": {
   "display_name": "Python 3.8.5 64-bit",
   "language": "python",
   "name": "python3"
  },
  "language_info": {
   "codemirror_mode": {
    "name": "ipython",
    "version": 3
   },
   "file_extension": ".py",
   "mimetype": "text/x-python",
   "name": "python",
   "nbconvert_exporter": "python",
   "pygments_lexer": "ipython3",
   "version": "3.8.5"
  },
  "orig_nbformat": 4
 },
 "nbformat": 4,
 "nbformat_minor": 2
}
